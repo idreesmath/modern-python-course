{
 "cells": [
  {
   "cell_type": "markdown",
   "metadata": {},
   "source": [
    "### Variables"
   ]
  },
  {
   "cell_type": "code",
   "execution_count": 1,
   "metadata": {},
   "outputs": [
    {
     "name": "stdout",
     "output_type": "stream",
     "text": [
      "Muhammad Idrees\n"
     ]
    }
   ],
   "source": [
    "name : str = \"Muhammad Idrees\"\n",
    "print(name)"
   ]
  },
  {
   "cell_type": "markdown",
   "metadata": {},
   "source": [
    "### String Data Type "
   ]
  },
  {
   "cell_type": "code",
   "execution_count": 3,
   "metadata": {},
   "outputs": [
    {
     "name": "stdout",
     "output_type": "stream",
     "text": [
      "Applied Ggeneative AI Engineering\n",
      "<class 'str'>\n"
     ]
    }
   ],
   "source": [
    "message : str = \"Applied Ggeneative AI Engineering\"   # String Data Type\n",
    "print(message)\n",
    "print(type(message))"
   ]
  },
  {
   "cell_type": "markdown",
   "metadata": {},
   "source": [
    "### String Concatenation"
   ]
  },
  {
   "cell_type": "code",
   "execution_count": 7,
   "metadata": {},
   "outputs": [
    {
     "name": "stdout",
     "output_type": "stream",
     "text": [
      "Student ID Card\n",
      "Student Name: Zainab Idrees\n",
      "Father Name: Muhammad Idrees\n",
      "Education: Matric\n",
      "Age: 15\n"
     ]
    }
   ],
   "source": [
    "student_name : str = \"Zainab Idrees\"\n",
    "father_name : str = \"Muhammad Idrees\"\n",
    "education : str = \"Matric\"\n",
    "age : int = 15\n",
    "\n",
    "card : str = \"Student ID Card\\nStudent Name: \" + student_name +  \"\\nFather Name: \" + father_name + \"\\nEducation: \" + education + \"\\nAge: \" + str(age) \n",
    "\n",
    "# variable \"age\" is in integer type we should type cast string data type as \"str(age)\"\n",
    "\n",
    "print(card)"
   ]
  },
  {
   "cell_type": "markdown",
   "metadata": {},
   "source": [
    "### Define Multiline String using \"\"\" \"\"\" or ''' '''"
   ]
  },
  {
   "cell_type": "code",
   "execution_count": 11,
   "metadata": {},
   "outputs": [
    {
     "name": "stdout",
     "output_type": "stream",
     "text": [
      "\n",
      "\n",
      "Student ID Card\n",
      "Student Name: ..........\n",
      "Father Name: ...........\n",
      "Education: .............\n",
      "Age: ...................\n",
      "\n",
      "\n"
     ]
    }
   ],
   "source": [
    "student_card : str = \"\"\"\n",
    "\n",
    "Student ID Card\n",
    "Student Name: ..........\n",
    "Father Name: ...........\n",
    "Education: .............\n",
    "Age: ...................\n",
    "\n",
    "\"\"\"\n",
    "\n",
    "print(student_card)"
   ]
  },
  {
   "cell_type": "markdown",
   "metadata": {},
   "source": [
    "### f-String Method in Python "
   ]
  },
  {
   "cell_type": "code",
   "execution_count": 12,
   "metadata": {},
   "outputs": [
    {
     "name": "stdout",
     "output_type": "stream",
     "text": [
      "\n",
      "Student ID Card\n",
      "Student Name: Mussavir Ali\n",
      "Father Name: Asad Ali\n",
      "Education: 7th\n",
      "Age: 12\n",
      "\n"
     ]
    }
   ],
   "source": [
    "student_name_1 : str = \"Mussavir Ali\"\n",
    "father_name_1 : str = \"Asad Ali\"\n",
    "education_1 : str = \"7th\"\n",
    "age_1 : int = 12\n",
    "\n",
    "student_card_1 : str = f\"\"\"\n",
    "Student ID Card\n",
    "Student Name: {student_name_1}\n",
    "Father Name: {father_name_1}\n",
    "Education: {education_1}\n",
    "Age: {age_1}\n",
    "\"\"\"\n",
    "\n",
    "print(student_card_1)"
   ]
  },
  {
   "cell_type": "markdown",
   "metadata": {},
   "source": [
    "### Place Holder Method "
   ]
  },
  {
   "cell_type": "code",
   "execution_count": 13,
   "metadata": {},
   "outputs": [
    {
     "name": "stdout",
     "output_type": "stream",
     "text": [
      "\n",
      "\"STUDENT CARD\"\n",
      "Student Name: Travish Ali\n",
      "Father Name:  Asim Ali\n",
      "Age: 13\n",
      "Education: 8th\n",
      "\n"
     ]
    }
   ],
   "source": [
    "std_name : str = \"Travish Ali\"\n",
    "f_name : str = \"Asim Ali\"\n",
    "edu : str = \"8th\"\n",
    "std_age : int = 13\n",
    "\n",
    "new_std_card : str = \"\"\"\n",
    "\"STUDENT CARD\"\n",
    "Student Name: %s\n",
    "Father Name:  %s\n",
    "Age: %d\n",
    "Education: %s\n",
    "\"\"\" %(std_name, f_name, std_age, edu)\n",
    "\n",
    "print(new_std_card)"
   ]
  },
  {
   "cell_type": "code",
   "execution_count": null,
   "metadata": {},
   "outputs": [],
   "source": []
  }
 ],
 "metadata": {
  "kernelspec": {
   "display_name": "base",
   "language": "python",
   "name": "python3"
  },
  "language_info": {
   "codemirror_mode": {
    "name": "ipython",
    "version": 3
   },
   "file_extension": ".py",
   "mimetype": "text/x-python",
   "name": "python",
   "nbconvert_exporter": "python",
   "pygments_lexer": "ipython3",
   "version": "3.11.7"
  }
 },
 "nbformat": 4,
 "nbformat_minor": 2
}
