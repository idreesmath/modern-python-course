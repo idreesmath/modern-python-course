{
 "cells": [
  {
   "cell_type": "markdown",
   "metadata": {},
   "source": [
    "### Escape Sequences\n",
    "\n",
    "* \\' single quote\n",
    "* \\\" double quote\n",
    "* \\backslash\n",
    "* \\n new line\n",
    "* \\t tab\n",
    "* \\b backspace"
   ]
  },
  {
   "cell_type": "code",
   "execution_count": 1,
   "metadata": {},
   "outputs": [
    {
     "name": "stdout",
     "output_type": "stream",
     "text": [
      "Hello! \"Python\" World\n"
     ]
    }
   ],
   "source": [
    "print(\"Hello! \\\"Python\\\" World\")"
   ]
  },
  {
   "cell_type": "code",
   "execution_count": 2,
   "metadata": {},
   "outputs": [
    {
     "name": "stdout",
     "output_type": "stream",
     "text": [
      "I'm Muhammad Idrees\n"
     ]
    }
   ],
   "source": [
    "print('I\\'m Muhammad Idrees')"
   ]
  },
  {
   "cell_type": "code",
   "execution_count": 3,
   "metadata": {},
   "outputs": [
    {
     "name": "stdout",
     "output_type": "stream",
     "text": [
      "Line A\n",
      "Line B\n"
     ]
    }
   ],
   "source": [
    "print(\"Line A\\nLine B\")"
   ]
  },
  {
   "cell_type": "code",
   "execution_count": 4,
   "metadata": {},
   "outputs": [
    {
     "name": "stdout",
     "output_type": "stream",
     "text": [
      "Name: \tMuhammad Idrees\n"
     ]
    }
   ],
   "source": [
    "print(\"Name: \\tMuhammad Idrees\")"
   ]
  },
  {
   "cell_type": "code",
   "execution_count": 6,
   "metadata": {},
   "outputs": [
    {
     "name": "stdout",
     "output_type": "stream",
     "text": [
      "This is \\ backslash\n"
     ]
    }
   ],
   "source": [
    "print(\"This is \\ backslash\")"
   ]
  },
  {
   "cell_type": "code",
   "execution_count": 7,
   "metadata": {},
   "outputs": [
    {
     "ename": "SyntaxError",
     "evalue": "unterminated string literal (detected at line 1) (1463306705.py, line 1)",
     "output_type": "error",
     "traceback": [
      "\u001b[1;36m  Cell \u001b[1;32mIn[7], line 1\u001b[1;36m\u001b[0m\n\u001b[1;33m    print(\"This is backslash\\\")   # this backslash at the end of string makes an error\u001b[0m\n\u001b[1;37m          ^\u001b[0m\n\u001b[1;31mSyntaxError\u001b[0m\u001b[1;31m:\u001b[0m unterminated string literal (detected at line 1)\n"
     ]
    }
   ],
   "source": [
    "print(\"This is backslash\\\")   # this backslash at the end of string makes an error"
   ]
  },
  {
   "cell_type": "code",
   "execution_count": 8,
   "metadata": {},
   "outputs": [
    {
     "name": "stdout",
     "output_type": "stream",
     "text": [
      "This is backslash\\\n"
     ]
    }
   ],
   "source": [
    "print(\"This is backslash\\\\\")   # at the end always double backslah \\\\"
   ]
  },
  {
   "cell_type": "code",
   "execution_count": 9,
   "metadata": {},
   "outputs": [
    {
     "name": "stdout",
     "output_type": "stream",
     "text": [
      "This is double backslah \\\\\n"
     ]
    }
   ],
   "source": [
    "print(\"This is double backslah \\\\\\\\\")"
   ]
  },
  {
   "cell_type": "code",
   "execution_count": 10,
   "metadata": {},
   "outputs": [
    {
     "name": "stdout",
     "output_type": "stream",
     "text": [
      "Hello!\n"
     ]
    }
   ],
   "source": [
    "print(\"Helll\\bo!\")"
   ]
  },
  {
   "cell_type": "markdown",
   "metadata": {},
   "source": [
    "### Print Ecsape Sequence as Normal Sequence Text "
   ]
  },
  {
   "cell_type": "code",
   "execution_count": 11,
   "metadata": {},
   "outputs": [
    {
     "name": "stdout",
     "output_type": "stream",
     "text": [
      "Line A \\n Line B\n"
     ]
    }
   ],
   "source": [
    "print(\"Line A \\\\n Line B\")"
   ]
  },
  {
   "cell_type": "code",
   "execution_count": 12,
   "metadata": {},
   "outputs": [
    {
     "name": "stdout",
     "output_type": "stream",
     "text": [
      "Line A \\t Line B\n"
     ]
    }
   ],
   "source": [
    "print(\"Line A \\\\t Line B\")"
   ]
  },
  {
   "cell_type": "code",
   "execution_count": 13,
   "metadata": {},
   "outputs": [
    {
     "name": "stdout",
     "output_type": "stream",
     "text": [
      "This is 4 backslash \\\\\\\\\n"
     ]
    }
   ],
   "source": [
    "print(\"This is 4 backslash \\\\\\\\\\\\\\\\\")"
   ]
  },
  {
   "cell_type": "code",
   "execution_count": 14,
   "metadata": {},
   "outputs": [
    {
     "name": "stdout",
     "output_type": "stream",
     "text": [
      " \\\" \\' \n"
     ]
    }
   ],
   "source": [
    "print(\" \\\\\\\" \\\\\\' \")"
   ]
  },
  {
   "cell_type": "code",
   "execution_count": 15,
   "metadata": {},
   "outputs": [
    {
     "name": "stdout",
     "output_type": "stream",
     "text": [
      "This is \\\\ double backslashs\n"
     ]
    }
   ],
   "source": [
    "print(\"This is \\\\\\\\ double backslashs\")"
   ]
  },
  {
   "cell_type": "code",
   "execution_count": 16,
   "metadata": {},
   "outputs": [
    {
     "name": "stdout",
     "output_type": "stream",
     "text": [
      "This is /\\/\\/\\/\\ mountains\n"
     ]
    }
   ],
   "source": [
    "print(\"This is /\\\\/\\\\/\\\\/\\\\ mountains\")"
   ]
  },
  {
   "cell_type": "code",
   "execution_count": 17,
   "metadata": {},
   "outputs": [
    {
     "name": "stdout",
     "output_type": "stream",
     "text": [
      "He is \t awesome\n"
     ]
    }
   ],
   "source": [
    "print(\"He is \\t awesome\")"
   ]
  },
  {
   "cell_type": "code",
   "execution_count": 18,
   "metadata": {},
   "outputs": [
    {
     "name": "stdout",
     "output_type": "stream",
     "text": [
      " \\\" \\n \\t \\' \n"
     ]
    }
   ],
   "source": [
    "print(\" \\\\\\\" \\\\n \\\\t \\\\\\' \")"
   ]
  },
  {
   "cell_type": "markdown",
   "metadata": {},
   "source": [
    "### Raw String"
   ]
  },
  {
   "cell_type": "code",
   "execution_count": 20,
   "metadata": {},
   "outputs": [
    {
     "name": "stdout",
     "output_type": "stream",
     "text": [
      "Line A \\n Line B\n",
      " \\' \\\" \\t \\n \\b \n"
     ]
    }
   ],
   "source": [
    "print(r\"Line A \\n Line B\")\n",
    "print(r\" \\' \\\" \\t \\n \\b \")"
   ]
  },
  {
   "cell_type": "code",
   "execution_count": null,
   "metadata": {},
   "outputs": [],
   "source": []
  }
 ],
 "metadata": {
  "kernelspec": {
   "display_name": "base",
   "language": "python",
   "name": "python3"
  },
  "language_info": {
   "codemirror_mode": {
    "name": "ipython",
    "version": 3
   },
   "file_extension": ".py",
   "mimetype": "text/x-python",
   "name": "python",
   "nbconvert_exporter": "python",
   "pygments_lexer": "ipython3",
   "version": "3.11.7"
  }
 },
 "nbformat": 4,
 "nbformat_minor": 2
}
