{
 "cells": [
  {
   "cell_type": "markdown",
   "id": "0db48d70-d19e-4139-89ce-42eea1b36eee",
   "metadata": {},
   "source": [
    "## Print Function"
   ]
  },
  {
   "cell_type": "code",
   "execution_count": 2,
   "id": "b08db0c2-c025-4892-9fb6-3e5c1b0cf3be",
   "metadata": {},
   "outputs": [
    {
     "name": "stdout",
     "output_type": "stream",
     "text": [
      "Hello! Python World\n"
     ]
    }
   ],
   "source": [
    "print(\"Hello! Python World\")"
   ]
  },
  {
   "cell_type": "code",
   "execution_count": 3,
   "id": "9af5b51f-e9b1-4392-bc0a-3e8b648dd949",
   "metadata": {},
   "outputs": [
    {
     "name": "stdout",
     "output_type": "stream",
     "text": [
      "Hello! Python World\n"
     ]
    }
   ],
   "source": [
    "print('Hello! Python World')"
   ]
  },
  {
   "cell_type": "code",
   "execution_count": 4,
   "id": "76dc3e8d",
   "metadata": {},
   "outputs": [
    {
     "name": "stdout",
     "output_type": "stream",
     "text": [
      "Hello! 'Python' World\n"
     ]
    }
   ],
   "source": [
    "print(\"Hello! 'Python' World\")   # we cannot use double quotes within double quotes"
   ]
  },
  {
   "cell_type": "code",
   "execution_count": 5,
   "id": "afa8e818",
   "metadata": {},
   "outputs": [
    {
     "name": "stdout",
     "output_type": "stream",
     "text": [
      "Hello! \"Python\" World\n"
     ]
    }
   ],
   "source": [
    "print('Hello! \"Python\" World')   # we cannot use single quotes within single quotes"
   ]
  },
  {
   "cell_type": "code",
   "execution_count": 6,
   "id": "4c967810",
   "metadata": {},
   "outputs": [
    {
     "name": "stdout",
     "output_type": "stream",
     "text": [
      "Hello \"Python\" World\n"
     ]
    }
   ],
   "source": [
    "print(\"Hello \\\"Python\\\" World\")"
   ]
  },
  {
   "cell_type": "code",
   "execution_count": 7,
   "id": "8a7200c1",
   "metadata": {},
   "outputs": [
    {
     "name": "stdout",
     "output_type": "stream",
     "text": [
      "Hello 'Python' World\n"
     ]
    }
   ],
   "source": [
    "print('Hello \\'Python\\' World')"
   ]
  },
  {
   "cell_type": "code",
   "execution_count": 10,
   "id": "730f1c1d",
   "metadata": {},
   "outputs": [
    {
     "name": "stdout",
     "output_type": "stream",
     "text": [
      " Hello! My Name is \"Muhammad Idrees\", and this is 'Basics of Python' course \n"
     ]
    }
   ],
   "source": [
    "# In triple qoutes we can use single qoutes or double qoutes or line break\n",
    "\n",
    "print( \"\"\" Hello! My Name is \"Muhammad Idrees\", and this is 'Basics of Python' course \"\"\" )"
   ]
  },
  {
   "cell_type": "code",
   "execution_count": 11,
   "id": "8d4796f7",
   "metadata": {},
   "outputs": [
    {
     "name": "stdout",
     "output_type": "stream",
     "text": [
      "\n",
      "\n",
      "Name: Muhammad Idrees\n",
      "Course: Modern Python\n",
      "Location: Pakistan\n",
      "\n",
      "\n"
     ]
    }
   ],
   "source": [
    "print( '''\n",
    "\n",
    "Name: Muhammad Idrees\n",
    "Course: Modern Python\n",
    "Location: Pakistan\n",
    "\n",
    "''' )"
   ]
  },
  {
   "cell_type": "code",
   "execution_count": null,
   "id": "ea014c7e",
   "metadata": {},
   "outputs": [],
   "source": []
  }
 ],
 "metadata": {
  "kernelspec": {
   "display_name": "base",
   "language": "python",
   "name": "python3"
  },
  "language_info": {
   "codemirror_mode": {
    "name": "ipython",
    "version": 3
   },
   "file_extension": ".py",
   "mimetype": "text/x-python",
   "name": "python",
   "nbconvert_exporter": "python",
   "pygments_lexer": "ipython3",
   "version": "3.11.7"
  }
 },
 "nbformat": 4,
 "nbformat_minor": 5
}
